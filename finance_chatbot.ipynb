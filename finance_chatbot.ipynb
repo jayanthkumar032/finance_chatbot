{
  "nbformat": 4,
  "nbformat_minor": 0,
  "metadata": {
    "kernelspec": {
      "name": "python3",
      "display_name": "Python 3"
    },
    "language_info": {
      "name": "python"
    },
    "widgets": {

        "fb310116e05849daa3189c4844344c12": {
          "model_module": "@jupyter-widgets/controls",
          "model_name": "HTMLModel",
          "model_module_version": "1.5.0",
          "state": {
            "_dom_classes": [],
            "_model_module": "@jupyter-widgets/controls",
            "_model_module_version": "1.5.0",
            "_model_name": "HTMLModel",
            "_view_count": null,
            "_view_module": "@jupyter-widgets/controls",
            "_view_module_version": "1.5.0",
            "_view_name": "HTMLView",
            "description": "",
            "description_tooltip": null,
            "layout": "IPY_MODEL_2ba95c388596456390bc6f5d297bfe81",
            "placeholder": "​",
            "style": "IPY_MODEL_3a546b69a381453ca3b8955be790f4b6",
            "value": "Map: 100%"
          }
        },
        "cf87d48a94864ea6b5d0cd9fddfa7175": {
          "model_module": "@jupyter-widgets/controls",
          "model_name": "FloatProgressModel",
          "model_module_version": "1.5.0",
          "state": {
            "_dom_classes": [],
            "_model_module": "@jupyter-widgets/controls",
            "_model_module_version": "1.5.0",
            "_model_name": "FloatProgressModel",
            "_view_count": null,
            "_view_module": "@jupyter-widgets/controls",
            "_view_module_version": "1.5.0",
            "_view_name": "ProgressView",
            "bar_style": "success",
            "description": "",
            "description_tooltip": null,
            "layout": "IPY_MODEL_3b1958c5e7fa4d9a80f4e91f68e2f0d8",
            "max": 357,
            "min": 0,
            "orientation": "horizontal",
            "style": "IPY_MODEL_7cb8df0abc554997879c1cdc78457cc0",
            "value": 357
          }
        },
        "23e952b202034eea95a301202c88cf82": {
          "model_module": "@jupyter-widgets/controls",
          "model_name": "HTMLModel",
          "model_module_version": "1.5.0",
          "state": {
            "_dom_classes": [],
            "_model_module": "@jupyter-widgets/controls",
            "_model_module_version": "1.5.0",
            "_model_name": "HTMLModel",
            "_view_count": null,
            "_view_module": "@jupyter-widgets/controls",
            "_view_module_version": "1.5.0",
            "_view_name": "HTMLView",
            "description": "",
            "description_tooltip": null,
            "layout": "IPY_MODEL_9ba229f258e1406288c576827ca8be66",
            "placeholder": "​",
            "style": "IPY_MODEL_57fa0e437310463ca06a877a687b4de7",
            "value": " 357/357 [00:01&lt;00:00, 227.81 examples/s]"
          }
        },
        "c9e55480e39f410ebb986b8cf7569640": {
          "model_module": "@jupyter-widgets/base",
          "model_name": "LayoutModel",
          "model_module_version": "1.2.0",
          "state": {
            "_model_module": "@jupyter-widgets/base",
            "_model_module_version": "1.2.0",
            "_model_name": "LayoutModel",
            "_view_count": null,
            "_view_module": "@jupyter-widgets/base",
            "_view_module_version": "1.2.0",
            "_view_name": "LayoutView",
            "align_content": null,
            "align_items": null,
            "align_self": null,
            "border": null,
            "bottom": null,
            "display": null,
            "flex": null,
            "flex_flow": null,
            "grid_area": null,
            "grid_auto_columns": null,
            "grid_auto_flow": null,
            "grid_auto_rows": null,
            "grid_column": null,
            "grid_gap": null,
            "grid_row": null,
            "grid_template_areas": null,
            "grid_template_columns": null,
            "grid_template_rows": null,
            "height": null,
            "justify_content": null,
            "justify_items": null,
            "left": null,
            "margin": null,
            "max_height": null,
            "max_width": null,
            "min_height": null,
            "min_width": null,
            "object_fit": null,
            "object_position": null,
            "order": null,
            "overflow": null,
            "overflow_x": null,
            "overflow_y": null,
            "padding": null,
            "right": null,
            "top": null,
            "visibility": null,
            "width": null
          }
        },
        "2ba95c388596456390bc6f5d297bfe81": {
          "model_module": "@jupyter-widgets/base",
          "model_name": "LayoutModel",
          "model_module_version": "1.2.0",
          "state": {
            "_model_module": "@jupyter-widgets/base",
            "_model_module_version": "1.2.0",
            "_model_name": "LayoutModel",
            "_view_count": null,
            "_view_module": "@jupyter-widgets/base",
            "_view_module_version": "1.2.0",
            "_view_name": "LayoutView",
            "align_content": null,
            "align_items": null,
            "align_self": null,
            "border": null,
            "bottom": null,
            "display": null,
            "flex": null,
            "flex_flow": null,
            "grid_area": null,
            "grid_auto_columns": null,
            "grid_auto_flow": null,
            "grid_auto_rows": null,
            "grid_column": null,
            "grid_gap": null,
            "grid_row": null,
            "grid_template_areas": null,
            "grid_template_columns": null,
            "grid_template_rows": null,
            "height": null,
            "justify_content": null,
            "justify_items": null,
            "left": null,
            "margin": null,
            "max_height": null,
            "max_width": null,
            "min_height": null,
            "min_width": null,
            "object_fit": null,
            "object_position": null,
            "order": null,
            "overflow": null,
            "overflow_x": null,
            "overflow_y": null,
            "padding": null,
            "right": null,
            "top": null,
            "visibility": null,
            "width": null
          }
        },
        "3a546b69a381453ca3b8955be790f4b6": {
          "model_module": "@jupyter-widgets/controls",
          "model_name": "DescriptionStyleModel",
          "model_module_version": "1.5.0",
          "state": {
            "_model_module": "@jupyter-widgets/controls",
            "_model_module_version": "1.5.0",
            "_model_name": "DescriptionStyleModel",
            "_view_count": null,
            "_view_module": "@jupyter-widgets/base",
            "_view_module_version": "1.2.0",
            "_view_name": "StyleView",
            "description_width": ""
          }
        },
        "3b1958c5e7fa4d9a80f4e91f68e2f0d8": {
          "model_module": "@jupyter-widgets/base",
          "model_name": "LayoutModel",
          "model_module_version": "1.2.0",
          "state": {
            "_model_module": "@jupyter-widgets/base",
            "_model_module_version": "1.2.0",
            "_model_name": "LayoutModel",
            "_view_count": null,
            "_view_module": "@jupyter-widgets/base",
            "_view_module_version": "1.2.0",
            "_view_name": "LayoutView",
            "align_content": null,
            "align_items": null,
            "align_self": null,
            "border": null,
            "bottom": null,
            "display": null,
            "flex": null,
            "flex_flow": null,
            "grid_area": null,
            "grid_auto_columns": null,
            "grid_auto_flow": null,
            "grid_auto_rows": null,
            "grid_column": null,
            "grid_gap": null,
            "grid_row": null,
            "grid_template_areas": null,
            "grid_template_columns": null,
            "grid_template_rows": null,
            "height": null,
            "justify_content": null,
            "justify_items": null,
            "left": null,
            "margin": null,
            "max_height": null,
            "max_width": null,
            "min_height": null,
            "min_width": null,
            "object_fit": null,
            "object_position": null,
            "order": null,
            "overflow": null,
            "overflow_x": null,
            "overflow_y": null,
            "padding": null,
            "right": null,
            "top": null,
            "visibility": null,
            "width": null
          }
        },
        "7cb8df0abc554997879c1cdc78457cc0": {
          "model_module": "@jupyter-widgets/controls",
          "model_name": "ProgressStyleModel",
          "model_module_version": "1.5.0",
          "state": {
            "_model_module": "@jupyter-widgets/controls",
            "_model_module_version": "1.5.0",
            "_model_name": "ProgressStyleModel",
            "_view_count": null,
            "_view_module": "@jupyter-widgets/base",
            "_view_module_version": "1.2.0",
            "_view_name": "StyleView",
            "bar_color": null,
            "description_width": ""
          }
        },
        "9ba229f258e1406288c576827ca8be66": {
          "model_module": "@jupyter-widgets/base",
          "model_name": "LayoutModel",
          "model_module_version": "1.2.0",
          "state": {
            "_model_module": "@jupyter-widgets/base",
            "_model_module_version": "1.2.0",
            "_model_name": "LayoutModel",
            "_view_count": null,
            "_view_module": "@jupyter-widgets/base",
            "_view_module_version": "1.2.0",
            "_view_name": "LayoutView",
            "align_content": null,
            "align_items": null,
            "align_self": null,
            "border": null,
            "bottom": null,
            "display": null,
            "flex": null,
            "flex_flow": null,
            "grid_area": null,
            "grid_auto_columns": null,
            "grid_auto_flow": null,
            "grid_auto_rows": null,
            "grid_column": null,
            "grid_gap": null,
            "grid_row": null,
            "grid_template_areas": null,
            "grid_template_columns": null,
            "grid_template_rows": null,
            "height": null,
            "justify_content": null,
            "justify_items": null,
            "left": null,
            "margin": null,
            "max_height": null,
            "max_width": null,
            "min_height": null,
            "min_width": null,
            "object_fit": null,
            "object_position": null,
            "order": null,
            "overflow": null,
            "overflow_x": null,
            "overflow_y": null,
            "padding": null,
            "right": null,
            "top": null,
            "visibility": null,
            "width": null
          }
        },
        "57fa0e437310463ca06a877a687b4de7": {
          "model_module": "@jupyter-widgets/controls",
          "model_name": "DescriptionStyleModel",
          "model_module_version": "1.5.0",
          "state": {
            "_model_module": "@jupyter-widgets/controls",
            "_model_module_version": "1.5.0",
            "_model_name": "DescriptionStyleModel",
            "_view_count": null,
            "_view_module": "@jupyter-widgets/base",
            "_view_module_version": "1.2.0",
            "_view_name": "StyleView",
            "description_width": ""
          }
        }
      }
    }
  },

  "cells": [
    {
      "cell_type": "code",
      "execution_count": 3,
      "metadata": {
        "id": "7m1_9Sq4IhWE",
        "colab": {
          "base_uri": "https://localhost:8080/",
          "height": 1000
        },
        "outputId": "bf03f9b1-f3cd-4271-a015-f3f48732cfd9"
      },
      "outputs": [
        {
          "output_type": "stream",
          "name": "stdout",
          "text": [
            "Requirement already satisfied: torch in /usr/local/lib/python3.11/dist-packages (2.6.0+cu124)\n",
            "Requirement already satisfied: transformers in /usr/local/lib/python3.11/dist-packages (4.54.0)\n",
            "Requirement already satisfied: datasets in /usr/local/lib/python3.11/dist-packages (4.0.0)\n",
            "Collecting evaluate\n",
            "  Downloading evaluate-0.4.5-py3-none-any.whl.metadata (9.5 kB)\n",
            "Requirement already satisfied: numpy in /usr/local/lib/python3.11/dist-packages (2.0.2)\n",
            "Requirement already satisfied: pandas in /usr/local/lib/python3.11/dist-packages (2.2.2)\n",
            "Requirement already satisfied: filelock in /usr/local/lib/python3.11/dist-packages (from torch) (3.18.0)\n",
            "Requirement already satisfied: typing-extensions>=4.10.0 in /usr/local/lib/python3.11/dist-packages (from torch) (4.14.1)\n",
            "Requirement already satisfied: networkx in /usr/local/lib/python3.11/dist-packages (from torch) (3.5)\n",
            "Requirement already satisfied: jinja2 in /usr/local/lib/python3.11/dist-packages (from torch) (3.1.6)\n",
            "Requirement already satisfied: fsspec in /usr/local/lib/python3.11/dist-packages (from torch) (2025.3.0)\n",
            "Collecting nvidia-cuda-nvrtc-cu12==12.4.127 (from torch)\n",
            "  Downloading nvidia_cuda_nvrtc_cu12-12.4.127-py3-none-manylinux2014_x86_64.whl.metadata (1.5 kB)\n",
            "Collecting nvidia-cuda-runtime-cu12==12.4.127 (from torch)\n",
            "  Downloading nvidia_cuda_runtime_cu12-12.4.127-py3-none-manylinux2014_x86_64.whl.metadata (1.5 kB)\n",
            "Collecting nvidia-cuda-cupti-cu12==12.4.127 (from torch)\n",
            "  Downloading nvidia_cuda_cupti_cu12-12.4.127-py3-none-manylinux2014_x86_64.whl.metadata (1.6 kB)\n",
            "Collecting nvidia-cudnn-cu12==9.1.0.70 (from torch)\n",
            "  Downloading nvidia_cudnn_cu12-9.1.0.70-py3-none-manylinux2014_x86_64.whl.metadata (1.6 kB)\n",
            "Collecting nvidia-cublas-cu12==12.4.5.8 (from torch)\n",
            "  Downloading nvidia_cublas_cu12-12.4.5.8-py3-none-manylinux2014_x86_64.whl.metadata (1.5 kB)\n",
            "Collecting nvidia-cufft-cu12==11.2.1.3 (from torch)\n",
            "  Downloading nvidia_cufft_cu12-11.2.1.3-py3-none-manylinux2014_x86_64.whl.metadata (1.5 kB)\n",
            "Collecting nvidia-curand-cu12==10.3.5.147 (from torch)\n",
            "  Downloading nvidia_curand_cu12-10.3.5.147-py3-none-manylinux2014_x86_64.whl.metadata (1.5 kB)\n",
            "Collecting nvidia-cusolver-cu12==11.6.1.9 (from torch)\n",
            "  Downloading nvidia_cusolver_cu12-11.6.1.9-py3-none-manylinux2014_x86_64.whl.metadata (1.6 kB)\n",
            "Collecting nvidia-cusparse-cu12==12.3.1.170 (from torch)\n",
            "  Downloading nvidia_cusparse_cu12-12.3.1.170-py3-none-manylinux2014_x86_64.whl.metadata (1.6 kB)\n",
            "Requirement already satisfied: nvidia-cusparselt-cu12==0.6.2 in /usr/local/lib/python3.11/dist-packages (from torch) (0.6.2)\n",
            "Requirement already satisfied: nvidia-nccl-cu12==2.21.5 in /usr/local/lib/python3.11/dist-packages (from torch) (2.21.5)\n",
            "Requirement already satisfied: nvidia-nvtx-cu12==12.4.127 in /usr/local/lib/python3.11/dist-packages (from torch) (12.4.127)\n",
            "Collecting nvidia-nvjitlink-cu12==12.4.127 (from torch)\n",
            "  Downloading nvidia_nvjitlink_cu12-12.4.127-py3-none-manylinux2014_x86_64.whl.metadata (1.5 kB)\n",
            "Requirement already satisfied: triton==3.2.0 in /usr/local/lib/python3.11/dist-packages (from torch) (3.2.0)\n",
            "Requirement already satisfied: sympy==1.13.1 in /usr/local/lib/python3.11/dist-packages (from torch) (1.13.1)\n",
            "Requirement already satisfied: mpmath<1.4,>=1.1.0 in /usr/local/lib/python3.11/dist-packages (from sympy==1.13.1->torch) (1.3.0)\n",
            "Requirement already satisfied: huggingface-hub<1.0,>=0.34.0 in /usr/local/lib/python3.11/dist-packages (from transformers) (0.34.1)\n",
            "Requirement already satisfied: packaging>=20.0 in /usr/local/lib/python3.11/dist-packages (from transformers) (25.0)\n",
            "Requirement already satisfied: pyyaml>=5.1 in /usr/local/lib/python3.11/dist-packages (from transformers) (6.0.2)\n",
            "Requirement already satisfied: regex!=2019.12.17 in /usr/local/lib/python3.11/dist-packages (from transformers) (2024.11.6)\n",
            "Requirement already satisfied: requests in /usr/local/lib/python3.11/dist-packages (from transformers) (2.32.3)\n",
            "Requirement already satisfied: tokenizers<0.22,>=0.21 in /usr/local/lib/python3.11/dist-packages (from transformers) (0.21.2)\n",
            "Requirement already satisfied: safetensors>=0.4.3 in /usr/local/lib/python3.11/dist-packages (from transformers) (0.5.3)\n",
            "Requirement already satisfied: tqdm>=4.27 in /usr/local/lib/python3.11/dist-packages (from transformers) (4.67.1)\n",
            "Requirement already satisfied: pyarrow>=15.0.0 in /usr/local/lib/python3.11/dist-packages (from datasets) (18.1.0)\n",
            "Requirement already satisfied: dill<0.3.9,>=0.3.0 in /usr/local/lib/python3.11/dist-packages (from datasets) (0.3.8)\n",
            "Requirement already satisfied: xxhash in /usr/local/lib/python3.11/dist-packages (from datasets) (3.5.0)\n",
            "Requirement already satisfied: multiprocess<0.70.17 in /usr/local/lib/python3.11/dist-packages (from datasets) (0.70.16)\n",
            "Requirement already satisfied: python-dateutil>=2.8.2 in /usr/local/lib/python3.11/dist-packages (from pandas) (2.9.0.post0)\n",
            "Requirement already satisfied: pytz>=2020.1 in /usr/local/lib/python3.11/dist-packages (from pandas) (2025.2)\n",
            "Requirement already satisfied: tzdata>=2022.7 in /usr/local/lib/python3.11/dist-packages (from pandas) (2025.2)\n",
            "Requirement already satisfied: aiohttp!=4.0.0a0,!=4.0.0a1 in /usr/local/lib/python3.11/dist-packages (from fsspec[http]<=2025.3.0,>=2023.1.0->datasets) (3.12.14)\n",
            "Requirement already satisfied: hf-xet<2.0.0,>=1.1.3 in /usr/local/lib/python3.11/dist-packages (from huggingface-hub<1.0,>=0.34.0->transformers) (1.1.5)\n",
            "Requirement already satisfied: six>=1.5 in /usr/local/lib/python3.11/dist-packages (from python-dateutil>=2.8.2->pandas) (1.17.0)\n",
            "Requirement already satisfied: charset-normalizer<4,>=2 in /usr/local/lib/python3.11/dist-packages (from requests->transformers) (3.4.2)\n",
            "Requirement already satisfied: idna<4,>=2.5 in /usr/local/lib/python3.11/dist-packages (from requests->transformers) (3.10)\n",
            "Requirement already satisfied: urllib3<3,>=1.21.1 in /usr/local/lib/python3.11/dist-packages (from requests->transformers) (2.5.0)\n",
            "Requirement already satisfied: certifi>=2017.4.17 in /usr/local/lib/python3.11/dist-packages (from requests->transformers) (2025.7.14)\n",
            "Requirement already satisfied: MarkupSafe>=2.0 in /usr/local/lib/python3.11/dist-packages (from jinja2->torch) (3.0.2)\n",
            "Requirement already satisfied: aiohappyeyeballs>=2.5.0 in /usr/local/lib/python3.11/dist-packages (from aiohttp!=4.0.0a0,!=4.0.0a1->fsspec[http]<=2025.3.0,>=2023.1.0->datasets) (2.6.1)\n",
            "Requirement already satisfied: aiosignal>=1.4.0 in /usr/local/lib/python3.11/dist-packages (from aiohttp!=4.0.0a0,!=4.0.0a1->fsspec[http]<=2025.3.0,>=2023.1.0->datasets) (1.4.0)\n",
            "Requirement already satisfied: attrs>=17.3.0 in /usr/local/lib/python3.11/dist-packages (from aiohttp!=4.0.0a0,!=4.0.0a1->fsspec[http]<=2025.3.0,>=2023.1.0->datasets) (25.3.0)\n",
            "Requirement already satisfied: frozenlist>=1.1.1 in /usr/local/lib/python3.11/dist-packages (from aiohttp!=4.0.0a0,!=4.0.0a1->fsspec[http]<=2025.3.0,>=2023.1.0->datasets) (1.7.0)\n",
            "Requirement already satisfied: multidict<7.0,>=4.5 in /usr/local/lib/python3.11/dist-packages (from aiohttp!=4.0.0a0,!=4.0.0a1->fsspec[http]<=2025.3.0,>=2023.1.0->datasets) (6.6.3)\n",
            "Requirement already satisfied: propcache>=0.2.0 in /usr/local/lib/python3.11/dist-packages (from aiohttp!=4.0.0a0,!=4.0.0a1->fsspec[http]<=2025.3.0,>=2023.1.0->datasets) (0.3.2)\n",
            "Requirement already satisfied: yarl<2.0,>=1.17.0 in /usr/local/lib/python3.11/dist-packages (from aiohttp!=4.0.0a0,!=4.0.0a1->fsspec[http]<=2025.3.0,>=2023.1.0->datasets) (1.20.1)\n",
            "Downloading nvidia_cublas_cu12-12.4.5.8-py3-none-manylinux2014_x86_64.whl (363.4 MB)\n",
            "\u001b[2K   \u001b[90m━━━━━━━━━━━━━━━━━━━━━━━━━━━━━━━━━━━━━━━━\u001b[0m \u001b[32m363.4/363.4 MB\u001b[0m \u001b[31m1.4 MB/s\u001b[0m eta \u001b[36m0:00:00\u001b[0m\n",
            "\u001b[?25hDownloading nvidia_cuda_cupti_cu12-12.4.127-py3-none-manylinux2014_x86_64.whl (13.8 MB)\n",
            "\u001b[2K   \u001b[90m━━━━━━━━━━━━━━━━━━━━━━━━━━━━━━━━━━━━━━━━\u001b[0m \u001b[32m13.8/13.8 MB\u001b[0m \u001b[31m28.2 MB/s\u001b[0m eta \u001b[36m0:00:00\u001b[0m\n",
            "\u001b[?25hDownloading nvidia_cuda_nvrtc_cu12-12.4.127-py3-none-manylinux2014_x86_64.whl (24.6 MB)\n",
            "\u001b[2K   \u001b[90m━━━━━━━━━━━━━━━━━━━━━━━━━━━━━━━━━━━━━━━━\u001b[0m \u001b[32m24.6/24.6 MB\u001b[0m \u001b[31m12.5 MB/s\u001b[0m eta \u001b[36m0:00:00\u001b[0m\n",
            "\u001b[?25hDownloading nvidia_cuda_runtime_cu12-12.4.127-py3-none-manylinux2014_x86_64.whl (883 kB)\n",
            "\u001b[2K   \u001b[90m━━━━━━━━━━━━━━━━━━━━━━━━━━━━━━━━━━━━━━━━\u001b[0m \u001b[32m883.7/883.7 kB\u001b[0m \u001b[31m33.2 MB/s\u001b[0m eta \u001b[36m0:00:00\u001b[0m\n",
            "\u001b[?25hDownloading nvidia_cudnn_cu12-9.1.0.70-py3-none-manylinux2014_x86_64.whl (664.8 MB)\n",
            "\u001b[2K   \u001b[90m━━━━━━━━━━━━━━━━━━━━━━━━━━━━━━━━━━━━━━━\u001b[0m \u001b[32m664.8/664.8 MB\u001b[0m \u001b[31m652.5 kB/s\u001b[0m eta \u001b[36m0:00:00\u001b[0m\n",
            "\u001b[?25hDownloading nvidia_cufft_cu12-11.2.1.3-py3-none-manylinux2014_x86_64.whl (211.5 MB)\n",
            "\u001b[2K   \u001b[90m━━━━━━━━━━━━━━━━━━━━━━━━━━━━━━━━━━━━━━━━\u001b[0m \u001b[32m211.5/211.5 MB\u001b[0m \u001b[31m5.2 MB/s\u001b[0m eta \u001b[36m0:00:00\u001b[0m\n",
            "\u001b[?25hDownloading nvidia_curand_cu12-10.3.5.147-py3-none-manylinux2014_x86_64.whl (56.3 MB)\n",
            "\u001b[2K   \u001b[90m━━━━━━━━━━━━━━━━━━━━━━━━━━━━━━━━━━━━━━━━\u001b[0m \u001b[32m56.3/56.3 MB\u001b[0m \u001b[31m10.7 MB/s\u001b[0m eta \u001b[36m0:00:00\u001b[0m\n",
            "\u001b[?25hDownloading nvidia_cusolver_cu12-11.6.1.9-py3-none-manylinux2014_x86_64.whl (127.9 MB)\n",
            "\u001b[2K   \u001b[90m━━━━━━━━━━━━━━━━━━━━━━━━━━━━━━━━━━━━━━━━\u001b[0m \u001b[32m127.9/127.9 MB\u001b[0m \u001b[31m6.4 MB/s\u001b[0m eta \u001b[36m0:00:00\u001b[0m\n",
            "\u001b[?25hDownloading nvidia_cusparse_cu12-12.3.1.170-py3-none-manylinux2014_x86_64.whl (207.5 MB)\n",
            "\u001b[2K   \u001b[90m━━━━━━━━━━━━━━━━━━━━━━━━━━━━━━━━━━━━━━━━\u001b[0m \u001b[32m207.5/207.5 MB\u001b[0m \u001b[31m3.9 MB/s\u001b[0m eta \u001b[36m0:00:00\u001b[0m\n",
            "\u001b[?25hDownloading nvidia_nvjitlink_cu12-12.4.127-py3-none-manylinux2014_x86_64.whl (21.1 MB)\n",
            "\u001b[2K   \u001b[90m━━━━━━━━━━━━━━━━━━━━━━━━━━━━━━━━━━━━━━━━\u001b[0m \u001b[32m21.1/21.1 MB\u001b[0m \u001b[31m38.9 MB/s\u001b[0m eta \u001b[36m0:00:00\u001b[0m\n",
            "\u001b[?25hDownloading evaluate-0.4.5-py3-none-any.whl (84 kB)\n",
            "\u001b[2K   \u001b[90m━━━━━━━━━━━━━━━━━━━━━━━━━━━━━━━━━━━━━━━━\u001b[0m \u001b[32m84.1/84.1 kB\u001b[0m \u001b[31m6.6 MB/s\u001b[0m eta \u001b[36m0:00:00\u001b[0m\n",
            "\u001b[?25hInstalling collected packages: nvidia-nvjitlink-cu12, nvidia-curand-cu12, nvidia-cufft-cu12, nvidia-cuda-runtime-cu12, nvidia-cuda-nvrtc-cu12, nvidia-cuda-cupti-cu12, nvidia-cublas-cu12, nvidia-cusparse-cu12, nvidia-cudnn-cu12, nvidia-cusolver-cu12, evaluate\n",
            "  Attempting uninstall: nvidia-nvjitlink-cu12\n",
            "    Found existing installation: nvidia-nvjitlink-cu12 12.5.82\n",
            "    Uninstalling nvidia-nvjitlink-cu12-12.5.82:\n",
            "      Successfully uninstalled nvidia-nvjitlink-cu12-12.5.82\n",
            "  Attempting uninstall: nvidia-curand-cu12\n",
            "    Found existing installation: nvidia-curand-cu12 10.3.6.82\n",
            "    Uninstalling nvidia-curand-cu12-10.3.6.82:\n",
            "      Successfully uninstalled nvidia-curand-cu12-10.3.6.82\n",
            "  Attempting uninstall: nvidia-cufft-cu12\n",
            "    Found existing installation: nvidia-cufft-cu12 11.2.3.61\n",
            "    Uninstalling nvidia-cufft-cu12-11.2.3.61:\n",
            "      Successfully uninstalled nvidia-cufft-cu12-11.2.3.61\n",
            "  Attempting uninstall: nvidia-cuda-runtime-cu12\n",
            "    Found existing installation: nvidia-cuda-runtime-cu12 12.5.82\n",
            "    Uninstalling nvidia-cuda-runtime-cu12-12.5.82:\n",
            "      Successfully uninstalled nvidia-cuda-runtime-cu12-12.5.82\n",
            "  Attempting uninstall: nvidia-cuda-nvrtc-cu12\n",
            "    Found existing installation: nvidia-cuda-nvrtc-cu12 12.5.82\n",
            "    Uninstalling nvidia-cuda-nvrtc-cu12-12.5.82:\n",
            "      Successfully uninstalled nvidia-cuda-nvrtc-cu12-12.5.82\n",
            "  Attempting uninstall: nvidia-cuda-cupti-cu12\n",
            "    Found existing installation: nvidia-cuda-cupti-cu12 12.5.82\n",
            "    Uninstalling nvidia-cuda-cupti-cu12-12.5.82:\n",
            "      Successfully uninstalled nvidia-cuda-cupti-cu12-12.5.82\n",
            "  Attempting uninstall: nvidia-cublas-cu12\n",
            "    Found existing installation: nvidia-cublas-cu12 12.5.3.2\n",
            "    Uninstalling nvidia-cublas-cu12-12.5.3.2:\n",
            "      Successfully uninstalled nvidia-cublas-cu12-12.5.3.2\n",
            "  Attempting uninstall: nvidia-cusparse-cu12\n",
            "    Found existing installation: nvidia-cusparse-cu12 12.5.1.3\n",
            "    Uninstalling nvidia-cusparse-cu12-12.5.1.3:\n",
            "      Successfully uninstalled nvidia-cusparse-cu12-12.5.1.3\n",
            "  Attempting uninstall: nvidia-cudnn-cu12\n",
            "    Found existing installation: nvidia-cudnn-cu12 9.3.0.75\n",
            "    Uninstalling nvidia-cudnn-cu12-9.3.0.75:\n",
            "      Successfully uninstalled nvidia-cudnn-cu12-9.3.0.75\n",
            "  Attempting uninstall: nvidia-cusolver-cu12\n",
            "    Found existing installation: nvidia-cusolver-cu12 11.6.3.83\n",
            "    Uninstalling nvidia-cusolver-cu12-11.6.3.83:\n",
            "      Successfully uninstalled nvidia-cusolver-cu12-11.6.3.83\n",
            "Successfully installed evaluate-0.4.5 nvidia-cublas-cu12-12.4.5.8 nvidia-cuda-cupti-cu12-12.4.127 nvidia-cuda-nvrtc-cu12-12.4.127 nvidia-cuda-runtime-cu12-12.4.127 nvidia-cudnn-cu12-9.1.0.70 nvidia-cufft-cu12-11.2.1.3 nvidia-curand-cu12-10.3.5.147 nvidia-cusolver-cu12-11.6.1.9 nvidia-cusparse-cu12-12.3.1.170 nvidia-nvjitlink-cu12-12.4.127\n"
          ]
        },
        {
          "output_type": "display_data",
          "data": {
            "application/vnd.colab-display-data+json": {
              "pip_warning": {
                "packages": [
                  "nvidia"
                ]
              },
              "id": "ff5ac2580be3487693de6a4658975ea6"
            }
          },
          "metadata": {}
        }
      ],
      "source": [
        "pip install torch transformers datasets evaluate numpy pandas\n"
      ]
    },
    {
      "cell_type": "code",
      "source": [
        "from transformers import AutoTokenizer,AutoModelForCausalLM,TrainingArguments,Trainer\n",
        "from datasets import load_dataset\n",
        "import numpy as np\n",
        "import evaluate\n"
      ],
      "metadata": {
        "id": "Hes-kcZjON3C"
      },
      "execution_count": 1,
      "outputs": []
    },
    {
      "cell_type": "code",
      "source": [
        "dataset=load_dataset(\"snorkelai/agent-finance-reasoning\")\n",
        "model_name=\"microsoft/DialoGPT-small\"\n",
        "tokenizer=AutoTokenizer.from_pretrained(model_name)\n",
        "model=AutoModelForCausalLM.from_pretrained(model_name)\n",
        "tokenizer.pad_token=tokenizer.eos_token\n",
        "print(dataset[\"train\"][0])"
      ],
      "metadata": {
        "colab": {
          "base_uri": "https://localhost:8080/"
        },
        "id": "xOYYk_11Op_X",
        "outputId": "9e183a62-6271-47ca-c0ac-e27ec6d4eeea"
      },
      "execution_count": 11,
      "outputs": [
        {
          "output_type": "stream",
          "name": "stdout",
          "text": [
            "{'id': 0, 'model': 'claude-opus-4-20250514', 'user_query': \"Here is the question : How significant are the company's postretirement benefit obligations in terms of interest burden, and what does this indicate about the company's long-term liability management in 2024?, Here are the companies name in the database to query for : at_t\", 'system_prompt': 'Only execute one tool call at a time. Think and reason step by step. Feel free to iteratively gather data as much as you need to answer the question. Although there is a limit of 50 turns, you can still gather data as much as you need to answer the question. When you have gathered all the data, answer the question. If                  \\n\\nOnce you have gathered all the data, then you can gradually start forming an answer. Once you have formed an answer, generate a 1 paragraph summary of it with all the relevant figures summarized.                   \\n', 'company': 'at_t', 'company_10k_link': 'https://www.sec.gov/ix?doc=/Archives/edgar/data/0000732717/000073271725000013/t-20241231.htm', 'answer': \"The interest cost ratio for postretirement benefits in 2024 is 4.6%, which indicates a relatively moderate interest burden on the company's postretirement obligations. This suggests that the company is managing its long-term benefit liabilities at a reasonable cost level, though this ratio should be monitored over time to ensure it remains sustainable as interest rates and benefit obligations evolve.\", 'correctness': True, 'correctness_rationale': \"The model response correctly analyzes that AT&T's postretirement benefit interest cost represents 4.6% of the company's total interest expense, which aligns with the label's assessment of a 4.6% interest cost ratio. Both the model response and the label conclude that this represents a moderate/reasonable interest burden, indicating effective long-term liability management. The model provides additional context about the reduction in postretirement obligations (from $6,693M to $6,339M) and the impact of higher discount rates, but the core assessment about the 4.6% ratio and its interpretation as a moderate burden that reflects reasonable management of long-term liabilities is consistent between the model response and the label.\", 'completeness': True, 'completeness_rationale': \"The model response is complete. It has fully addressed the question about the significance of the company's postretirement benefit obligations in terms of interest burden and what this indicates about long-term liability management in 2024. The model:\\n\\n1. Gathered all relevant data about AT&T's postretirement benefit obligations\\n2. Collected information about interest costs related to these obligations\\n3. Compared these costs to the company's overall interest expenses\\n4. Analyzed the total postretirement obligations in relation to total debt\\n5. Examined year-over-year changes and discount rates\\n6. Provided a complete concluding analysis that directly answers the question, noting that the postretirement benefit obligations represent a relatively modest portion (4.6%) of the company's overall interest burden and indicating that AT&T has effective long-term liability management in 2024.\\n\\nThe reasoning process is thorough and the model has arrived at a complete answer with specific figures and percentages to support its conclusion.\", 'trace': '[{\"content\": \"Here is the question : How significant are the company\\'s postretirement benefit obligations in terms of interest burden, and what does this indicate about the company\\'s long-term liability management in 2024?, Here are the companies name in the database to query for : at_t\", \"id\": \"2aafee6b-806f-456a-b0d8-a6baf7b6cb5b\", \"type\": \"human\", \"additional_kwargs\": {}}, {\"content\": [{\"text\": \"I\\'ll help you analyze AT&T\\'s postretirement benefit obligations and their interest burden to understand the company\\'s long-term liability management in 2024. Let me start by exploring the available data.\", \"type\": \"text\"}, {\"id\": \"toolu_01RZvNkP1xY2XmLrnnui8RUi\", \"input\": {\"company_name\": \"at_t\"}, \"name\": \"get_descriptions\", \"type\": \"tool_use\"}], \"id\": \"run--4341b341-8c0b-4d4b-a537-272bc0140e9f-0\", \"type\": \"ai\", \"additional_kwargs\": {}}, {\"content\": \"[\\\\\"us_gaap_ScheduleOfComponentsOfIncomeTaxExpenseBenefitTableTextBlock\\\\\", \\\\\"us_gaap_ScheduleOfDebtTableTextBlock\\\\\", \\\\\"us_gaap_SupplierFinanceProgramTableTextBlock\\\\\", \\\\\"_AdditionalFinancialInformationConsolidatedStatementsOfIncomeTableTextBlock\\\\\", \\\\\"us_gaap_ScheduleOfEarningsPerShareBasicAndDilutedTableTextBlock\\\\\", \\\\\"us_gaap_LeaseCostTableTextBlock\\\\\", \\\\\"us_gaap_ScheduleOfDeferredTaxAssetsAndLiabilitiesTableTextBlock\\\\\", \\\\\"_ScheduleOfPensionAndPostretirementAssetsAndLiabilitiesAtFairValueByLevelTableTextBlock\\\\\", \\\\\"us_gaap_ScheduleOfFiniteLivedIntangibleAssetsTableTextBlock\\\\\", \\\\\"us_gaap_ScheduleOfRelatedPartyTransactionsTableTextBlock\\\\\", \\\\\"us_gaap_ContractWithCustomerAssetAndLiabilityTableTextBlock\\\\\", \\\\\"us_gaap_ScheduleOfAssumptionsUsedTableTextBlock\\\\\", \\\\\"us_gaap_LesseeOperatingLeaseLiabilityMaturityTableTextBlock\\\\\", \\\\\"us_gaap_CapitalizedContractCostTableTextBlock\\\\\", \\\\\"us_gaap_ScheduleOfEffectiveIncomeTaxRateReconciliationTableTextBlock\\\\\", \\\\\"us_gaap_ScheduleOfShareBasedCompensationActivityTableTextBlock\\\\\", \\\\\"_ScheduleOfPlanObligationsInExcessOfPlanAssetsTableTextBlock\\\\\", \\\\\"_AdditionalFinancialInformationConsolidatedBalanceSheetsTableTextBlock\\\\\", \\\\\"_LongTermDebtScheduledRepaymentsTableTextBlock\\\\\", \\\\\"us_gaap_ScheduleOfExpectedBenefitPaymentsTableTextBlock\\\\\", \\\\\"us_gaap_ScheduleOfAccumulatedOtherComprehensiveIncomeLossTableTextBlock\\\\\", \\\\\"us_gaap_ScheduleOfIncomeBeforeIncomeTaxDomesticAndForeignTableTextBlock\\\\\", \\\\\"us_gaap_FinanceLeaseLiabilityMaturityTableTextBlock\\\\\", \\\\\"us_gaap_TransferOfFinancialAssetsAccountedForAsSalesTableTextBlock\\\\\", \\\\\"us_gaap_ScheduleOfIndefiniteLivedIntangibleAssetsTableTextBlock\\\\\", \\\\\"us_gaap_ScheduleOfUnrecognizedTaxBenefitsRollForwardTableTextBlock\\\\\", \\\\\"us_gaap_ScheduleOfAllocationOfPlanAssetsTableTextBlock\\\\\", \\\\\"us_gaap_ScheduleOfRevenuesFromExternalCustomersAndLongLivedAssetsByGeographicalAreasTableTextBlock\\\\\", \\\\\"us_gaap_ScheduleOfCashFlowSupplementalDisclosuresTableTextBlock\\\\\", \\\\\"us_gaap_UnrealizedGainLossOnInvestmentsTableTextBlock\\\\\"]\", \"id\": \"5ca628a5-ccac-4f2c-863c-32c0ac6b3919\", \"type\": \"tool\", \"additional_kwargs\": {}}, {\"content\": [{\"text\": \"Let me look for tables related to pension and postretirement benefits:\", \"type\": \"text\"}, {\"id\": \"toolu_01Sxq11V8GcPBddMVKvBfhmv\", \"input\": {\"company_name\": \"at_t\", \"table_name\": \"_ScheduleOfPensionAndPostretirementAssetsAndLiabilitiesAtFairValueByLevelTableTextBlock\"}, \"name\": \"get_table_info\", \"type\": \"tool_use\"}], \"id\": \"run--088e3dd0-51bc-45be-95e9-37cf6ac5e8f4-0\", \"type\": \"ai\", \"additional_kwargs\": {}}, {\"content\": \"{\\\\\"description\\\\\": \\\\\"the_following_tables_set_forth_by_level,_within_the_fair_value_hierarchy,_the_pension_and_postretirement_assets_and_liabilities_at_fair_value_as_of_december_31,_2024\\\\\",\\\\\"column_names\\\\\": [\\\\\"asset_liability_type\\\\\",\\\\\"level_1\\\\\",\\\\\"level_2\\\\\",\\\\\"level_3\\\\\",\\\\\"total\\\\\"],\\\\\"unique_vals_per_col\\\\\": {\\\\\"asset_liability_type\\\\\": [\\\\\"non-interest_bearing_cash\\\\\",\\\\\"interest_bearing_cash\\\\\",\\\\\"foreign_currency_contracts\\\\\",\\\\\"equity_securities:_domestic_equities\\\\\",\\\\\"equity_securities:_international_equities\\\\\",\\\\\"fixed_income_securities:_corporate_bonds_and_other_investments\\\\\",\\\\\"fixed_income_securities:_government_and_municipal_bonds\\\\\",\\\\\"fixed_income_securities:_mortgage-backed_securities\\\\\",\\\\\"real_estate_and_real_assets\\\\\",\\\\\"securities_lending_collateral\\\\\",\\\\\"receivable_for_variation_margin\\\\\",\\\\\"assets_at_fair_value\\\\\",\\\\\"investments_sold_short_and_other_liabilities_at_fair_value\\\\\",\\\\\"total_plan_net_assets_at_fair_value\\\\\",\\\\\"assets_held_at_net_asset_value_practical_expedient:_private_equity_funds\\\\\",\\\\\"assets_held_at_net_asset_value_practical_expedient:_real_estate_funds\\\\\",\\\\\"assets_held_at_net_asset_value_practical_expedient:_commingled_funds\\\\\",\\\\\"total_assets_held_at_net_asset_value_practical_expedient\\\\\",\\\\\"other_assets_(liabilities)\\\\\",\\\\\"total_plan_net_assets\\\\\",\\\\\"postretirement_assets_and_liabilities_at_fair_value:_interest_bearing_cash\\\\\",\\\\\"postretirement_assets_and_liabilities_at_fair_value:_equity_securities:_domestic_equities\\\\\",\\\\\"postretirement_assets_and_liabilities_at_fair_value:_total_plan_net_assets_at_fair_value\\\\\",\\\\\"postretirement_assets_and_liabilities_at_fair_value:_assets_held_at_net_asset_value_practical_expedient:_private_equity_funds\\\\\",\\\\\"postretirement_assets_and_liabilities_at_fair_value:_assets_held_at_net_asset_value_practical_expedient:_real_estate_funds\\\\\",\\\\\"postretirement_assets_and_liabilities_at_fair_value:_assets_held_at_net_asset_value_practical_expedient:_commingled_funds\\\\\",\\\\\"postretirement_assets_and_liabilities_at_fair_value:_total_assets_held_at_net_asset_value_practical_expedient\\\\\",\\\\\"postretirement_assets_and_liabilities_at_fair_value:_other_assets_(liabilities)\\\\\",\\\\\"postretirement_assets_and_liabilities_at_fair_value:_total_plan_net_assets\\\\\"]},\\\\\"company\\\\\": \\\\\"at_t\\\\\",\\\\\"column_dtypes\\\\\": {\\\\\"asset_liability_type\\\\\": \\\\\"object\\\\\",\\\\\"level_1\\\\\": \\\\\"object\\\\\",\\\\\"level_2\\\\\": \\\\\"object\\\\\",\\\\\"level_3\\\\\": \\\\\"object\\\\\",\\\\\"total\\\\\": \\\\\"object\\\\\"}}\", \"id\": \"995b8698-389b-4e2b-bccf-169cd115923f\", \"type\": \"tool\", \"additional_kwargs\": {}}, {\"content\": [{\"text\": \"Let me also check for plan obligations information:\", \"type\": \"text\"}, {\"id\": \"toolu_01LygXNpLV1PNFWSKPC3fzNF\", \"input\": {\"company_name\": \"at_t\", \"table_name\": \"_ScheduleOfPlanObligationsInExcessOfPlanAssetsTableTextBlock\"}, \"name\": \"get_table_info\", \"type\": \"tool_use\"}], \"id\": \"run--3068dada-f4fa-491c-9f69-3f3c917ae7de-0\", \"type\": \"ai\", \"additional_kwargs\": {}}, {\"content\": \"{\\\\\"description\\\\\": \\\\\"the_following_table_presents_the_change_in_the_projected_benefit_obligation_for_the_years_ended_december_31\\\\\",\\\\\"column_names\\\\\": [\\\\\"benefit_obligation_component\\\\\",\\\\\"pension_benefits_2024\\\\\",\\\\\"pension_benefits_2023\\\\\",\\\\\"postretirement_benefits_2024\\\\\",\\\\\"postretirement_benefits_2023\\\\\"],\\\\\"unique_vals_per_col\\\\\": {\\\\\"benefit_obligation_component\\\\\": [\\\\\"benefit_obligation_at_beginning_of_year\\\\\",\\\\\"service_cost_-_benefits_earned_during_the_period\\\\\",\\\\\"interest_cost_on_projected_benefit_obligation\\\\\",\\\\\"amendments\\\\\",\\\\\"actuarial_(gain)_loss\\\\\",\\\\\"benefits_paid_including_settlements\\\\\",\\\\\"group_annuity_contract_transfer\\\\\",\\\\\"benefit_obligation_at_end_of_year\\\\\"]},\\\\\"company\\\\\": \\\\\"at_t\\\\\",\\\\\"column_dtypes\\\\\": {\\\\\"benefit_obligation_component\\\\\": \\\\\"object\\\\\",\\\\\"pension_benefits_2024\\\\\": \\\\\"object\\\\\",\\\\\"pension_benefits_2023\\\\\": \\\\\"object\\\\\",\\\\\"postretirement_benefits_2024\\\\\": \\\\\"object\\\\\",\\\\\"postretirement_benefits_2023\\\\\": \\\\\"object\\\\\"}}\", \"id\": \"e9fe70d8-ede3-47c7-88a7-afd2aa804940\", \"type\": \"tool\", \"additional_kwargs\": {}}, {\"content\": [{\"text\": \"This is exactly what I need! Let me query this table to get the interest cost on postretirement benefits:\", \"type\": \"text\"}, {\"id\": \"toolu_01GU8TNJcKszsvu71Lfxd9DP\", \"input\": {\"company_name\": \"at_t\", \"table_name\": \"_ScheduleOfPlanObligationsInExcessOfPlanAssetsTableTextBlock\", \"query\": \"SELECT * FROM _ScheduleOfPlanObligationsInExcessOfPlanAssetsTableTextBlock WHERE benefit_obligation_component = \\'interest_cost_on_projected_benefit_obligation\\'\"}, \"name\": \"sql_query\", \"type\": \"tool_use\"}], \"id\": \"run--c7057c88-d0ad-464f-ace0-1a04a8c8752c-0\", \"type\": \"ai\", \"additional_kwargs\": {}}, {\"content\": \"Error : select * is not allowed, highly inefficient!\", \"id\": \"c22adc43-de5d-4db1-b255-3251362c4133\", \"type\": \"tool\", \"additional_kwargs\": {}}, {\"content\": [{\"id\": \"toolu_01RfkMvwmPGTFh44DkQmxCMW\", \"input\": {\"company_name\": \"at_t\", \"table_name\": \"_ScheduleOfPlanObligationsInExcessOfPlanAssetsTableTextBlock\", \"query\": \"SELECT benefit_obligation_component, postretirement_benefits_2024, postretirement_benefits_2023 FROM _ScheduleOfPlanObligationsInExcessOfPlanAssetsTableTextBlock WHERE benefit_obligation_component = \\'interest_cost_on_projected_benefit_obligation\\'\"}, \"name\": \"sql_query\", \"type\": \"tool_use\"}], \"id\": \"run--2cefda98-15a9-41c6-8e67-d5629144d6d8-0\", \"type\": \"ai\", \"additional_kwargs\": {}}, {\"content\": \"[{\\\\\"benefit_obligation_component\\\\\":\\\\\"interest_cost_on_projected_benefit_obligation\\\\\",\\\\\"postretirement_benefits_2024\\\\\":\\\\\"$310\\\\\",\\\\\"postretirement_benefits_2023\\\\\":\\\\\"$340\\\\\"}]\", \"id\": \"a0875096-4bcb-4de1-afb8-7c3e702a0466\", \"type\": \"tool\", \"additional_kwargs\": {}}, {\"content\": [{\"text\": \"Now let me get the total benefit obligation figures to understand the scale:\", \"type\": \"text\"}, {\"id\": \"toolu_01NJga2ZRPW4SL69Q9YwgySW\", \"input\": {\"company_name\": \"at_t\", \"table_name\": \"_ScheduleOfPlanObligationsInExcessOfPlanAssetsTableTextBlock\", \"query\": \"SELECT benefit_obligation_component, postretirement_benefits_2024, postretirement_benefits_2023 FROM _ScheduleOfPlanObligationsInExcessOfPlanAssetsTableTextBlock WHERE benefit_obligation_component IN (\\'benefit_obligation_at_beginning_of_year\\', \\'benefit_obligation_at_end_of_year\\')\"}, \"name\": \"sql_query\", \"type\": \"tool_use\"}], \"id\": \"run--ea0de538-4dcb-4096-8c76-ea19f541d2dc-0\", \"type\": \"ai\", \"additional_kwargs\": {}}, {\"content\": \"[{\\\\\"benefit_obligation_component\\\\\":\\\\\"benefit_obligation_at_beginning_of_year\\\\\",\\\\\"postretirement_benefits_2024\\\\\":\\\\\"$6,693\\\\\",\\\\\"postretirement_benefits_2023\\\\\":\\\\\"$7,280\\\\\"},{\\\\\"benefit_obligation_component\\\\\":\\\\\"benefit_obligation_at_end_of_year\\\\\",\\\\\"postretirement_benefits_2024\\\\\":\\\\\"$6,339\\\\\",\\\\\"postretirement_benefits_2023\\\\\":\\\\\"$6,693\\\\\"}]\", \"id\": \"32c9a6d6-b340-4741-ad5e-a34df483cf65\", \"type\": \"tool\", \"additional_kwargs\": {}}, {\"content\": [{\"text\": \"Let me also check AT&T\\'s debt information to compare the interest burden:\", \"type\": \"text\"}, {\"id\": \"toolu_01MDYQzmHdcbCz8z6MyNi4NC\", \"input\": {\"company_name\": \"at_t\", \"table_name\": \"us_gaap_ScheduleOfDebtTableTextBlock\"}, \"name\": \"get_table_info\", \"type\": \"tool_use\"}], \"id\": \"run--ad1fe0ac-5f4b-494b-8d40-b0b291c4cb67-0\", \"type\": \"ai\", \"additional_kwargs\": {}}, {\"content\": \"{\\\\\"description\\\\\": \\\\\"our_debt_activity_during_2024_primarily_consisted_of_the_following\\\\\",\\\\\"column_names\\\\\": [],\\\\\"unique_vals_per_col\\\\\": {},\\\\\"company\\\\\": \\\\\"at_t\\\\\",\\\\\"column_dtypes\\\\\": {}}\", \"id\": \"70fa1f72-4fc5-4a4f-a6db-ada186c3873d\", \"type\": \"tool\", \"additional_kwargs\": {}}, {\"content\": [{\"text\": \"Let me check for additional financial information that might contain debt or interest expense details:\", \"type\": \"text\"}, {\"id\": \"toolu_01T214w4yJJydmxePeGkz8ai\", \"input\": {\"company_name\": \"at_t\", \"table_name\": \"_AdditionalFinancialInformationConsolidatedStatementsOfIncomeTableTextBlock\"}, \"name\": \"get_table_info\", \"type\": \"tool_use\"}], \"id\": \"run--52442e93-35bf-4d3f-bcc4-3dc5776d25b5-0\", \"type\": \"ai\", \"additional_kwargs\": {}}, {\"content\": \"{\\\\\"description\\\\\": \\\\\"\\\\\",\\\\\"column_names\\\\\": [\\\\\"item\\\\\",\\\\\"2024\\\\\",\\\\\"2023\\\\\",\\\\\"2022\\\\\"],\\\\\"unique_vals_per_col\\\\\": {\\\\\"item\\\\\": [\\\\\"advertising_expense\\\\\",\\\\\"interest_income\\\\\",\\\\\"interest_expense_incurred\\\\\",\\\\\"capitalized_interest_-_capital_expenditures\\\\\",\\\\\"capitalized_interest_-_spectrum_1\\\\\",\\\\\"total_interest_expense\\\\\"]},\\\\\"company\\\\\": \\\\\"at_t\\\\\",\\\\\"column_dtypes\\\\\": {\\\\\"item\\\\\": \\\\\"object\\\\\",\\\\\"2024\\\\\": \\\\\"object\\\\\",\\\\\"2023\\\\\": \\\\\"object\\\\\",\\\\\"2022\\\\\": \\\\\"object\\\\\"}}\", \"id\": \"4e5f03d5-4d90-4af0-a260-d7e15a1fde39\", \"type\": \"tool\", \"additional_kwargs\": {}}, {\"content\": [{\"text\": \"Perfect! Let me get the interest expense information:\", \"type\": \"text\"}, {\"id\": \"toolu_016EA5yB3dkMkZgGU3p7xwAm\", \"input\": {\"company_name\": \"at_t\", \"table_name\": \"_AdditionalFinancialInformationConsolidatedStatementsOfIncomeTableTextBlock\", \"query\": \"SELECT item, 2024, 2023 FROM _AdditionalFinancialInformationConsolidatedStatementsOfIncomeTableTextBlock WHERE item IN (\\'interest_expense_incurred\\', \\'total_interest_expense\\')\"}, \"name\": \"sql_query\", \"type\": \"tool_use\"}], \"id\": \"run--27754e78-ebe4-4b8b-90ef-bc0db24abc7d-0\", \"type\": \"ai\", \"additional_kwargs\": {}}, {\"content\": \"[{\\\\\"item\\\\\":\\\\\"interest_expense_incurred\\\\\",\\\\\"2024\\\\\":2024,\\\\\"2023\\\\\":2023},{\\\\\"item\\\\\":\\\\\"total_interest_expense\\\\\",\\\\\"2024\\\\\":2024,\\\\\"2023\\\\\":2023}]\", \"id\": \"7e692008-8d6a-4407-9c5d-3a1f090a4709\", \"type\": \"tool\", \"additional_kwargs\": {}}, {\"content\": [{\"text\": \"The query returned the column names instead of values. Let me fix this:\", \"type\": \"text\"}, {\"id\": \"toolu_01SLKTwkQMYnDmboyoc1KWnT\", \"input\": {\"company_name\": \"at_t\", \"table_name\": \"_AdditionalFinancialInformationConsolidatedStatementsOfIncomeTableTextBlock\", \"query\": \"SELECT item, \\\\\"2024\\\\\", \\\\\"2023\\\\\" FROM _AdditionalFinancialInformationConsolidatedStatementsOfIncomeTableTextBlock WHERE item IN (\\'interest_expense_incurred\\', \\'total_interest_expense\\')\"}, \"name\": \"sql_query\", \"type\": \"tool_use\"}], \"id\": \"run--a434ba63-b772-446e-91d3-505cdeabb737-0\", \"type\": \"ai\", \"additional_kwargs\": {}}, {\"content\": \"[{\\\\\"item\\\\\":\\\\\"interest_expense_incurred\\\\\",\\\\\"2024\\\\\":\\\\\"$7,120\\\\\",\\\\\"2023\\\\\":\\\\\"$7,578\\\\\"},{\\\\\"item\\\\\":\\\\\"total_interest_expense\\\\\",\\\\\"2024\\\\\":\\\\\"$6,759\\\\\",\\\\\"2023\\\\\":\\\\\"$6,704\\\\\"}]\", \"id\": \"4ecc0ee6-79e3-404d-873c-0145f5ab0b5c\", \"type\": \"tool\", \"additional_kwargs\": {}}, {\"content\": [{\"text\": \"Now let me check the balance sheet information to get total debt levels:\", \"type\": \"text\"}, {\"id\": \"toolu_015mvFRjePNLAeQYYavFcHM3\", \"input\": {\"company_name\": \"at_t\", \"table_name\": \"_AdditionalFinancialInformationConsolidatedBalanceSheetsTableTextBlock\"}, \"name\": \"get_table_info\", \"type\": \"tool_use\"}], \"id\": \"run--22e9df0c-5200-48d2-9d79-66b9c274a0d2-0\", \"type\": \"ai\", \"additional_kwargs\": {}}, {\"content\": \"{\\\\\"description\\\\\": \\\\\"accounts_payable_and_accrued_liabilities_as_of_december_31\\\\\",\\\\\"column_names\\\\\": [\\\\\"item\\\\\",\\\\\"december_31_2024\\\\\",\\\\\"december_31_2023\\\\\"],\\\\\"unique_vals_per_col\\\\\": {\\\\\"item\\\\\": [\\\\\"accounts_payable\\\\\",\\\\\"accrued_payroll_and_commissions\\\\\",\\\\\"current_portion_of_employee_benefit_obligation\\\\\",\\\\\"accrued_interest\\\\\",\\\\\"accrued_taxes\\\\\",\\\\\"other\\\\\",\\\\\"total_accounts_payable_and_accrued_liabilities\\\\\"]},\\\\\"company\\\\\": \\\\\"at_t\\\\\",\\\\\"column_dtypes\\\\\": {\\\\\"item\\\\\": \\\\\"object\\\\\",\\\\\"december_31_2024\\\\\": \\\\\"object\\\\\",\\\\\"december_31_2023\\\\\": \\\\\"object\\\\\"}}\", \"id\": \"f2a8c02d-047b-448b-b896-f291399dc2e4\", \"type\": \"tool\", \"additional_kwargs\": {}}, {\"content\": [{\"text\": \"Let me check the long-term debt information:\", \"type\": \"text\"}, {\"id\": \"toolu_01QczbY178EuzACCCWjxHAGH\", \"input\": {\"company_name\": \"at_t\", \"table_name\": \"_LongTermDebtScheduledRepaymentsTableTextBlock\"}, \"name\": \"get_table_info\", \"type\": \"tool_use\"}], \"id\": \"run--5c130516-7df4-467d-86e9-218775a1e2ef-0\", \"type\": \"ai\", \"additional_kwargs\": {}}, {\"content\": \"{\\\\\"description\\\\\": \\\\\"scheduled_repayments_of_long_term_debt_with_interest_rates\\\\\",\\\\\"column_names\\\\\": [\\\\\"year\\\\\",\\\\\"debt_repayments\\\\\",\\\\\"weighted_average_interest_rate\\\\\"],\\\\\"unique_vals_per_col\\\\\": {\\\\\"year\\\\\": [\\\\\"2025\\\\\",\\\\\"2026\\\\\",\\\\\"2027\\\\\",\\\\\"2028\\\\\",\\\\\"2029\\\\\",\\\\\"thereafter\\\\\"]},\\\\\"company\\\\\": \\\\\"at_t\\\\\",\\\\\"column_dtypes\\\\\": {\\\\\"year\\\\\": \\\\\"object\\\\\",\\\\\"debt_repayments\\\\\": \\\\\"object\\\\\",\\\\\"weighted_average_interest_rate\\\\\": \\\\\"object\\\\\"}}\", \"id\": \"61b70609-40d4-4eea-a4be-2d0c2ea4670a\", \"type\": \"tool\", \"additional_kwargs\": {}}, {\"content\": [{\"text\": \"Let me get the total debt repayments to understand the scale:\", \"type\": \"text\"}, {\"id\": \"toolu_01TndydPJPHNpkeA4FeDf5bB\", \"input\": {\"company_name\": \"at_t\", \"table_name\": \"_LongTermDebtScheduledRepaymentsTableTextBlock\", \"query\": \"SELECT year, debt_repayments FROM _LongTermDebtScheduledRepaymentsTableTextBlock\"}, \"name\": \"sql_query\", \"type\": \"tool_use\"}], \"id\": \"run--feea7f09-f1ac-4abd-8724-1941aac3e7c7-0\", \"type\": \"ai\", \"additional_kwargs\": {}}, {\"content\": \"Error : You are trying to query without any kind of filters, which is not allowed!\", \"id\": \"c2205d0f-dd02-4e61-af8b-d9fe62335048\", \"type\": \"tool\", \"additional_kwargs\": {}}, {\"content\": [{\"id\": \"toolu_01CAEKMq7ByNMJ47qpZ9xBLa\", \"input\": {\"company_name\": \"at_t\", \"table_name\": \"_LongTermDebtScheduledRepaymentsTableTextBlock\", \"query\": \"SELECT year, debt_repayments FROM _LongTermDebtScheduledRepaymentsTableTextBlock WHERE year IN (\\'2025\\', \\'2026\\', \\'2027\\', \\'2028\\', \\'2029\\', \\'thereafter\\')\"}, \"name\": \"sql_query\", \"type\": \"tool_use\"}], \"id\": \"run--3ee458b0-d554-412d-937b-cf9f31c19f0f-0\", \"type\": \"ai\", \"additional_kwargs\": {}}, {\"content\": \"[{\\\\\"year\\\\\":\\\\\"2025\\\\\",\\\\\"debt_repayments\\\\\":\\\\\"$5,399\\\\\"},{\\\\\"year\\\\\":\\\\\"2026\\\\\",\\\\\"debt_repayments\\\\\":\\\\\"$8,652\\\\\"},{\\\\\"year\\\\\":\\\\\"2027\\\\\",\\\\\"debt_repayments\\\\\":\\\\\"$6,310\\\\\"},{\\\\\"year\\\\\":\\\\\"2028\\\\\",\\\\\"debt_repayments\\\\\":\\\\\"$6,905\\\\\"},{\\\\\"year\\\\\":\\\\\"2029\\\\\",\\\\\"debt_repayments\\\\\":\\\\\"$6,918\\\\\"},{\\\\\"year\\\\\":\\\\\"thereafter\\\\\",\\\\\"debt_repayments\\\\\":\\\\\"$101,768\\\\\"}]\", \"id\": \"2cb8ad3a-76f4-47f5-9b56-333f990c8ff7\", \"type\": \"tool\", \"additional_kwargs\": {}}, {\"content\": [{\"text\": \"Now let me calculate the total debt to get a complete picture:\", \"type\": \"text\"}, {\"id\": \"toolu_014zc6Pqaj1q3HsnXZzPPcST\", \"input\": {\"expression\": \"5399 + 8652 + 6310 + 6905 + 6918 + 101768\"}, \"name\": \"calculator\", \"type\": \"tool_use\"}], \"id\": \"run--55c8c149-edcd-43f8-aa4f-c18ed45b853a-0\", \"type\": \"ai\", \"additional_kwargs\": {}}, {\"content\": \"[135952, \\\\\"To convert this addition expression into Python code, I\\'ll simply write a calculation that adds all the numbers together (5399 + 8652 + 6310 + 6905 + 6918 + 101768) and store the result in the variable `return_me`.\\\\\"]\", \"id\": \"79619cf6-ea5e-4c4d-93aa-06691f4fd19a\", \"type\": \"tool\", \"additional_kwargs\": {}}, {\"content\": [{\"text\": \"Now let me calculate some key ratios to assess the significance of postretirement benefit obligations:\", \"type\": \"text\"}, {\"id\": \"toolu_01RxTSo6zzoZTXHvgfS63n7V\", \"input\": {\"expression\": \"(310 / 6759) * 100\"}, \"name\": \"calculator\", \"type\": \"tool_use\"}], \"id\": \"run--99becc42-5941-4bd1-b9ca-cadb127aef68-0\", \"type\": \"ai\", \"additional_kwargs\": {}}, {\"content\": \"[4.586477289539872, \\\\\"I need to convert the mathematical expression (310 / 6759) * 100 to Python code. This is a simple calculation that involves division followed by multiplication.\\\\\"]\", \"id\": \"5fa75d91-32af-47db-8691-a37e81b1fd7e\", \"type\": \"tool\", \"additional_kwargs\": {}}, {\"content\": [{\"id\": \"toolu_01PvfsmwFTbPFD8jVKZ4oZqV\", \"input\": {\"expression\": \"(6339 / 135952) * 100\"}, \"name\": \"calculator\", \"type\": \"tool_use\"}], \"id\": \"run--d76b9d04-74fc-4ddb-b75d-1d4c783aa304-0\", \"type\": \"ai\", \"additional_kwargs\": {}}, {\"content\": \"[4.662675061786513, \\\\\"I\\'ll convert the mathematical expression (6339 / 135952) * 100 to Python code. This is a straightforward calculation that involves division followed by multiplication.\\\\\"]\", \"id\": \"89f86ec0-3436-419f-97d3-6017f0d94923\", \"type\": \"tool\", \"additional_kwargs\": {}}, {\"content\": [{\"text\": \"Let me also check if there\\'s more information about the assumptions used for these obligations:\", \"type\": \"text\"}, {\"id\": \"toolu_017XKZE9PXPrUCWeuXFk3UPP\", \"input\": {\"company_name\": \"at_t\", \"table_name\": \"us_gaap_ScheduleOfAssumptionsUsedTableTextBlock\"}, \"name\": \"get_table_info\", \"type\": \"tool_use\"}], \"id\": \"run--fb250f20-acf1-4a10-89bc-a99a2ffee511-0\", \"type\": \"ai\", \"additional_kwargs\": {}}, {\"content\": \"{\\\\\"description\\\\\": \\\\\"in_determining_the_projected_benefit_obligation_and_the_net_pension_and_postretirement_benefit_cost,_we_used_the_following_significant_weighted-average_assumptions:\\\\\",\\\\\"column_names\\\\\": [\\\\\"assumption_type\\\\\",\\\\\"pension_benefits_2024\\\\\",\\\\\"pension_benefits_2023\\\\\",\\\\\"pension_benefits_2022\\\\\",\\\\\"postretirement_benefits_2024\\\\\",\\\\\"postretirement_benefits_2023\\\\\",\\\\\"postretirement_benefits_2022\\\\\"],\\\\\"unique_vals_per_col\\\\\": {\\\\\"assumption_type\\\\\": [\\\\\"weighted-average_discount_rate_for_determining_benefit_obligation_at_december_31\\\\\",\\\\\"discount_rate_in_effect_for_determining_service_cost\\\\\",\\\\\"discount_rate_in_effect_for_determining_interest_cost\\\\\",\\\\\"weighted-average_interest_credit_rate_for_cash_balance_pension_programs\\\\\",\\\\\"long-term_rate_of_return_on_plan_assets\\\\\",\\\\\"composite_rate_of_compensation_increase_for_determining_benefit_obligation\\\\\",\\\\\"composite_rate_of_compensation_increase_for_determining_net_cost_(credit)\\\\\"]},\\\\\"company\\\\\": \\\\\"at_t\\\\\",\\\\\"column_dtypes\\\\\": {\\\\\"assumption_type\\\\\": \\\\\"object\\\\\",\\\\\"pension_benefits_2024\\\\\": \\\\\"object\\\\\",\\\\\"pension_benefits_2023\\\\\": \\\\\"object\\\\\",\\\\\"pension_benefits_2022\\\\\": \\\\\"object\\\\\",\\\\\"postretirement_benefits_2024\\\\\": \\\\\"object\\\\\",\\\\\"postretirement_benefits_2023\\\\\": \\\\\"object\\\\\",\\\\\"postretirement_benefits_2022\\\\\": \\\\\"object\\\\\"}}\", \"id\": \"083451ad-5249-47e1-9d66-2350f1303f9a\", \"type\": \"tool\", \"additional_kwargs\": {}}, {\"content\": [{\"id\": \"toolu_01AvhW5P16s7PoxVRtp2X8EG\", \"input\": {\"company_name\": \"at_t\", \"table_name\": \"us_gaap_ScheduleOfAssumptionsUsedTableTextBlock\", \"query\": \"SELECT assumption_type, postretirement_benefits_2024, postretirement_benefits_2023 FROM us_gaap_ScheduleOfAssumptionsUsedTableTextBlock WHERE assumption_type IN (\\'weighted-average_discount_rate_for_determining_benefit_obligation_at_december_31\\', \\'discount_rate_in_effect_for_determining_interest_cost\\')\"}, \"name\": \"sql_query\", \"type\": \"tool_use\"}], \"id\": \"run--8ad03970-f50b-454f-a2bf-cd7827adfe5c-0\", \"type\": \"ai\", \"additional_kwargs\": {}}, {\"content\": \"[{\\\\\"assumption_type\\\\\":\\\\\"weighted-average_discount_rate_for_determining_benefit_obligation_at_december_31\\\\\",\\\\\"postretirement_benefits_2024\\\\\":\\\\\"5.60%\\\\\",\\\\\"postretirement_benefits_2023\\\\\":\\\\\"5.00%\\\\\"},{\\\\\"assumption_type\\\\\":\\\\\"discount_rate_in_effect_for_determining_interest_cost\\\\\",\\\\\"postretirement_benefits_2024\\\\\":\\\\\"4.90%\\\\\",\\\\\"postretirement_benefits_2023\\\\\":\\\\\"5.10%\\\\\"}]\", \"id\": \"b27050c7-94fd-4f80-9087-ce8aaef9e28c\", \"type\": \"tool\", \"additional_kwargs\": {}}, {\"content\": \"Based on my analysis of AT&T\\'s postretirement benefit obligations and their interest burden, I can provide you with a comprehensive assessment:\\\\n\\\\n**Analysis Summary:**\\\\n\\\\nAT&T\\'s postretirement benefit obligations represent a relatively modest portion of the company\\'s overall interest burden, indicating effective long-term liability management in 2024. The postretirement benefit interest cost of $310 million accounts for approximately 4.6% of AT&T\\'s total interest expense of $6,759 million, while the total postretirement benefit obligation of $6,339 million represents only 4.7% of the company\\'s total long-term debt of approximately $136 billion. The company has successfully reduced its postretirement obligations from $6,693 million to $6,339 million year-over-year, demonstrating proactive liability management, while benefiting from higher discount rates (5.60% in 2024 vs 5.00% in 2023) that help reduce the present value of future obligations, ultimately positioning these liabilities as well-controlled and not a significant financial burden relative to the company\\'s overall debt structure.\", \"id\": \"run--be0d7cf4-5f32-4a6a-84db-2de31e1ad89b-0\", \"type\": \"ai\", \"additional_kwargs\": {}}]'}\n"
          ]
        }
      ]
    },
    {
      "cell_type": "code",
      "source": [
        "split_dataset=dataset[\"train\"].train_test_split(test_size=0.1,seed=42)\n",
        "\n",
        "train_data=split_dataset[\"train\"]\n",
        "eval_data=split_dataset[\"test\"]\n",
        "\n",
        "print(len(train_data))\n",
        "print(len(eval_data))"
      ],
      "metadata": {
        "colab": {
          "base_uri": "https://localhost:8080/"
        },
        "id": "Vvfh-9mnVRNG",
        "outputId": "921bc24a-2e48-4c6a-efe0-1da39439eb74"
      },
      "execution_count": 7,
      "outputs": [
        {
          "output_type": "stream",
          "name": "stdout",
          "text": [
            "321\n",
            "36\n"
          ]
        }
      ]
    },
    {
      "cell_type": "code",
      "source": [
        "def preprocess(example):\n",
        "    inputs = tokenizer(\n",
        "        example[\"user_query\"],\n",
        "        padding=\"max_length\",\n",
        "        truncation=True,\n",
        "        max_length=128\n",
        "    )\n",
        "    with tokenizer.as_target_tokenizer():\n",
        "        labels = tokenizer(\n",
        "            example[\"answer\"],\n",
        "            padding=\"max_length\",\n",
        "            truncation=True,\n",
        "            max_length=128\n",
        "        )\n",
        "    inputs[\"labels\"] = labels[\"input_ids\"]\n",
        "    return inputs\n",
        "\n",
        "\n",
        "\n",
        "tokenized = dataset[\"train\"].map(preprocess, batched=True)\n",
        "\n",
        "# Split into train/validation (90/10)\n",
        "split_dataset = tokenized.train_test_split(test_size=0.1, seed=42)\n",
        "train_dataset = split_dataset[\"train\"]\n",
        "eval_dataset  = split_dataset[\"test\"]\n",
        "\n",
        "# Keep only the columns the model expects\n",
        "train_dataset = train_dataset.remove_columns(\n",
        "    [col for col in train_dataset.column_names if col not in [\"input_ids\",\"attention_mask\",\"labels\"]]\n",
        ")\n",
        "eval_dataset = eval_dataset.remove_columns(\n",
        "    [col for col in eval_dataset.column_names if col not in [\"input_ids\",\"attention_mask\",\"labels\"]]\n",
        ")"
      ],
      "metadata": {
        "id": "4KRfHuU6XsDO",
        "colab": {
          "base_uri": "https://localhost:8080/",
          "height": 104,
          "referenced_widgets": [
            "c2d0986b8be340eb9ee81da2e7b8ecdf",
            "fb310116e05849daa3189c4844344c12",
            "cf87d48a94864ea6b5d0cd9fddfa7175",
            "23e952b202034eea95a301202c88cf82",
            "c9e55480e39f410ebb986b8cf7569640",
            "2ba95c388596456390bc6f5d297bfe81",
            "3a546b69a381453ca3b8955be790f4b6",
            "3b1958c5e7fa4d9a80f4e91f68e2f0d8",
            "7cb8df0abc554997879c1cdc78457cc0",
            "9ba229f258e1406288c576827ca8be66",
            "57fa0e437310463ca06a877a687b4de7"
          ]
        },
        "outputId": "03bbb147-4241-4480-c517-9004e6eea078"
      },
      "execution_count": 32,
      "outputs": [
        {
          "output_type": "display_data",
          "data": {
            "text/plain": [
              "Map:   0%|          | 0/357 [00:00<?, ? examples/s]"
            ],
            "application/vnd.jupyter.widget-view+json": {
              "version_major": 2,
              "version_minor": 0,
              "model_id": "c2d0986b8be340eb9ee81da2e7b8ecdf"
            }
          },
          "metadata": {}
        },
        {
          "output_type": "stream",
          "name": "stderr",
          "text": [
            "/usr/local/lib/python3.11/dist-packages/transformers/tokenization_utils_base.py:3950: UserWarning: `as_target_tokenizer` is deprecated and will be removed in v5 of Transformers. You can tokenize your labels by using the argument `text_target` of the regular `__call__` method (either in the same call as your input texts if you use the same keyword arguments, or in a separate call.\n",
            "  warnings.warn(\n"
          ]
        }
      ]
    },
    {
      "cell_type": "code",
      "source": [
        "metric=evaluate.load(\"accuracy\")\n",
        "\n",
        "def compute_metric(eval_pred):\n",
        "  logits,labels=eval_pred\n",
        "  predections=np.argmax(logits,axis=-1)\n",
        "  return metric.compute(predections=predections,reference=labels)"
      ],
      "metadata": {
        "id": "VPyQ8jHN0HLI"
      },
      "execution_count": 23,
      "outputs": []
    },
    {
      "cell_type": "code",
      "source": [
        "training_args=TrainingArguments(\n",
        "    output_dir =\"finance_chatbot\",\n",
        "    num_train_epochs=1,\n",
        "    per_device_train_batch_size=2,\n",
        "    per_device_eval_batch_size=2,\n",
        "    logging_dir=\"logs\",\n",
        "    save_strategy=\"epoch\",\n",
        "    remove_unused_columns=False,\n",
        "    report_to=\"none\"\n",
        ")\n",
        "\n",
        "trainer=Trainer(\n",
        "    model=model,\n",
        "    args=training_args,\n",
        "    train_dataset=train_dataset,\n",
        "    eval_dataset=eval_dataset,\n",
        "    compute_metrics=compute_metric\n",
        "\n",
        ")\n",
        "\n",
        "trainer.train()"
      ],
      "metadata": {
        "colab": {
          "base_uri": "https://localhost:8080/",
          "height": 127
        },
        "id": "6eLHYsDxHWbr",
        "outputId": "a3dffbc8-b80e-42c3-dc92-6a178e776322"
      },
      "execution_count": 33,
      "outputs": [
        {
          "output_type": "stream",
          "name": "stderr",
          "text": [
            "`loss_type=None` was set in the config but it is unrecognised.Using the default loss: `ForCausalLMLoss`.\n"
          ]
        },
        {
          "output_type": "display_data",
          "data": {
            "text/plain": [
              "<IPython.core.display.HTML object>"
            ],
            "text/html": [
              "\n",
              "    <div>\n",
              "      \n",
              "      <progress value='161' max='161' style='width:300px; height:20px; vertical-align: middle;'></progress>\n",
              "      [161/161 14:44, Epoch 1/1]\n",
              "    </div>\n",
              "    <table border=\"1\" class=\"dataframe\">\n",
              "  <thead>\n",
              " <tr style=\"text-align: left;\">\n",
              "      <th>Step</th>\n",
              "      <th>Training Loss</th>\n",
              "    </tr>\n",
              "  </thead>\n",
              "  <tbody>\n",
              "  </tbody>\n",
              "</table><p>"
            ]
          },
          "metadata": {}
        },
        {
          "output_type": "execute_result",
          "data": {
            "text/plain": [
              "TrainOutput(global_step=161, training_loss=5.964070006186918, metrics={'train_runtime': 894.6772, 'train_samples_per_second': 0.359, 'train_steps_per_second': 0.18, 'total_flos': 20968685568000.0, 'train_loss': 5.964070006186918, 'epoch': 1.0})"
            ]
          },
          "metadata": {},
          "execution_count": 33
        }
      ]
    },
    {
      "cell_type": "code",
      "source": [
        "trainer.save_model(\"finance_chatbot/final\")\n",
        "tokenizer.save_pretrained(\"finance_chatbot/final\")\n"
      ],
      "metadata": {
        "colab": {
          "base_uri": "https://localhost:8080/"
        },
        "id": "wSnMF0ZBI22Q",
        "outputId": "1299661f-d13d-45cd-d5cc-a1ac66d50244"
      },
      "execution_count": 34,
      "outputs": [
        {
          "output_type": "execute_result",
          "data": {
            "text/plain": [
              "('finance_chatbot/final/tokenizer_config.json',\n",
              " 'finance_chatbot/final/special_tokens_map.json',\n",
              " 'finance_chatbot/final/chat_template.jinja',\n",
              " 'finance_chatbot/final/vocab.json',\n",
              " 'finance_chatbot/final/merges.txt',\n",
              " 'finance_chatbot/final/added_tokens.json',\n",
              " 'finance_chatbot/final/tokenizer.json')"
            ]
          },
          "metadata": {},
          "execution_count": 34
        }
      ]
    },
    {
      "cell_type": "code",
      "source": [],
      "metadata": {
        "id": "t2hzyNe9TOpg"
      },
      "execution_count": null,
      "outputs": []
    }
  ]
}
